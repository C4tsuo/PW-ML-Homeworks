{
 "cells": [
  {
   "cell_type": "markdown",
   "id": "79f278b8",
   "metadata": {},
   "source": [
    "# Arithmetic Operator"
   ]
  },
  {
   "cell_type": "code",
   "execution_count": 19,
   "id": "29d837b4",
   "metadata": {},
   "outputs": [
    {
     "name": "stdout",
     "output_type": "stream",
     "text": [
      "10\n",
      "2\n",
      "13.333333333333334\n",
      "13\n",
      "200\n"
     ]
    }
   ],
   "source": [
    "# Addition\n",
    "print(8+2)\n",
    "# Substraction\n",
    "print(10-8)\n",
    "# Division\n",
    "print(200/15)\n",
    "# Floor Division\n",
    "print(200//15)\n",
    "# Multiplication\n",
    "print(10*20)"
   ]
  },
  {
   "cell_type": "code",
   "execution_count": 18,
   "id": "6ddbebf1",
   "metadata": {},
   "outputs": [
    {
     "name": "stdout",
     "output_type": "stream",
     "text": [
      "2\n",
      "100000000\n"
     ]
    }
   ],
   "source": [
    "# Reminder\n",
    "print(10%4)\n",
    "# Power\n",
    "print(10**8)"
   ]
  },
  {
   "cell_type": "markdown",
   "id": "ec424c94",
   "metadata": {},
   "source": [
    "# Comparison Operator"
   ]
  },
  {
   "cell_type": "code",
   "execution_count": 31,
   "id": "48ea3aee",
   "metadata": {},
   "outputs": [],
   "source": [
    "S = 8\n",
    "R = 2"
   ]
  },
  {
   "cell_type": "code",
   "execution_count": 32,
   "id": "7adb49b1",
   "metadata": {},
   "outputs": [
    {
     "data": {
      "text/plain": [
       "True"
      ]
     },
     "execution_count": 32,
     "metadata": {},
     "output_type": "execute_result"
    }
   ],
   "source": [
    "S > R"
   ]
  },
  {
   "cell_type": "code",
   "execution_count": 33,
   "id": "5b81e850",
   "metadata": {},
   "outputs": [
    {
     "data": {
      "text/plain": [
       "False"
      ]
     },
     "execution_count": 33,
     "metadata": {},
     "output_type": "execute_result"
    }
   ],
   "source": [
    "S < R"
   ]
  },
  {
   "cell_type": "code",
   "execution_count": 34,
   "id": "70bc71eb",
   "metadata": {},
   "outputs": [
    {
     "data": {
      "text/plain": [
       "False"
      ]
     },
     "execution_count": 34,
     "metadata": {},
     "output_type": "execute_result"
    }
   ],
   "source": [
    "S == R"
   ]
  },
  {
   "cell_type": "code",
   "execution_count": 35,
   "id": "1fa290af",
   "metadata": {},
   "outputs": [
    {
     "data": {
      "text/plain": [
       "True"
      ]
     },
     "execution_count": 35,
     "metadata": {},
     "output_type": "execute_result"
    }
   ],
   "source": [
    "S >= R"
   ]
  },
  {
   "cell_type": "code",
   "execution_count": 36,
   "id": "8b00101d",
   "metadata": {},
   "outputs": [
    {
     "data": {
      "text/plain": [
       "False"
      ]
     },
     "execution_count": 36,
     "metadata": {},
     "output_type": "execute_result"
    }
   ],
   "source": [
    "S <= R"
   ]
  },
  {
   "cell_type": "code",
   "execution_count": 37,
   "id": "f51fc798",
   "metadata": {},
   "outputs": [
    {
     "data": {
      "text/plain": [
       "True"
      ]
     },
     "execution_count": 37,
     "metadata": {},
     "output_type": "execute_result"
    }
   ],
   "source": [
    "S != R"
   ]
  },
  {
   "cell_type": "markdown",
   "id": "86c5f6c6",
   "metadata": {},
   "source": [
    "# Logical Operator "
   ]
  },
  {
   "cell_type": "code",
   "execution_count": 11,
   "id": "a0f5e88d",
   "metadata": {},
   "outputs": [
    {
     "data": {
      "text/plain": [
       "False"
      ]
     },
     "execution_count": 11,
     "metadata": {},
     "output_type": "execute_result"
    }
   ],
   "source": [
    "s>10\n",
    "r>10"
   ]
  },
  {
   "cell_type": "code",
   "execution_count": 12,
   "id": "1b2819e0",
   "metadata": {},
   "outputs": [
    {
     "data": {
      "text/plain": [
       "True"
      ]
     },
     "execution_count": 12,
     "metadata": {},
     "output_type": "execute_result"
    }
   ],
   "source": [
    "s>10 or r<10"
   ]
  },
  {
   "cell_type": "code",
   "execution_count": 13,
   "id": "75200dc8",
   "metadata": {},
   "outputs": [
    {
     "data": {
      "text/plain": [
       "False"
      ]
     },
     "execution_count": 13,
     "metadata": {},
     "output_type": "execute_result"
    }
   ],
   "source": [
    "s>10 and r<10"
   ]
  },
  {
   "cell_type": "code",
   "execution_count": 14,
   "id": "e376699a",
   "metadata": {},
   "outputs": [
    {
     "data": {
      "text/plain": [
       "False"
      ]
     },
     "execution_count": 14,
     "metadata": {},
     "output_type": "execute_result"
    }
   ],
   "source": [
    "not s<10"
   ]
  },
  {
   "cell_type": "code",
   "execution_count": 15,
   "id": "6acadb1d",
   "metadata": {},
   "outputs": [
    {
     "data": {
      "text/plain": [
       "True"
      ]
     },
     "execution_count": 15,
     "metadata": {},
     "output_type": "execute_result"
    }
   ],
   "source": [
    "not s>10"
   ]
  },
  {
   "cell_type": "markdown",
   "id": "5c3519b3",
   "metadata": {},
   "source": [
    "# Identity Operators "
   ]
  },
  {
   "cell_type": "code",
   "execution_count": 24,
   "id": "e98ae355",
   "metadata": {},
   "outputs": [
    {
     "data": {
      "text/plain": [
       "False"
      ]
     },
     "execution_count": 24,
     "metadata": {},
     "output_type": "execute_result"
    }
   ],
   "source": [
    "s is 2"
   ]
  },
  {
   "cell_type": "code",
   "execution_count": 22,
   "id": "6041be2a",
   "metadata": {},
   "outputs": [
    {
     "name": "stderr",
     "output_type": "stream",
     "text": [
      "<>:1: SyntaxWarning: \"is not\" with a literal. Did you mean \"!=\"?\n",
      "<>:1: SyntaxWarning: \"is not\" with a literal. Did you mean \"!=\"?\n",
      "C:\\Users\\tmiaw\\AppData\\Local\\Temp\\ipykernel_5508\\76434499.py:1: SyntaxWarning: \"is not\" with a literal. Did you mean \"!=\"?\n",
      "  s is not 2\n"
     ]
    },
    {
     "data": {
      "text/plain": [
       "True"
      ]
     },
     "execution_count": 22,
     "metadata": {},
     "output_type": "execute_result"
    }
   ],
   "source": [
    "s is not 2"
   ]
  },
  {
   "cell_type": "markdown",
   "id": "ef307dee",
   "metadata": {},
   "source": [
    "# Membership Operators\n"
   ]
  },
  {
   "cell_type": "code",
   "execution_count": 2,
   "id": "092dbbce",
   "metadata": {},
   "outputs": [
    {
     "data": {
      "text/plain": [
       "True"
      ]
     },
     "execution_count": 2,
     "metadata": {},
     "output_type": "execute_result"
    }
   ],
   "source": [
    "8 in (5,6,7,8,9)"
   ]
  },
  {
   "cell_type": "code",
   "execution_count": 5,
   "id": "c235c7bf",
   "metadata": {},
   "outputs": [
    {
     "data": {
      "text/plain": [
       "True"
      ]
     },
     "execution_count": 5,
     "metadata": {},
     "output_type": "execute_result"
    }
   ],
   "source": [
    "2 not in (5,6,7,8,9)"
   ]
  },
  {
   "cell_type": "markdown",
   "id": "9c9502dd",
   "metadata": {},
   "source": [
    "# Data types"
   ]
  },
  {
   "cell_type": "markdown",
   "id": "9c093fcf",
   "metadata": {},
   "source": [
    "a = 9\n",
    "b = 3.33\n",
    "c = True"
   ]
  },
  {
   "cell_type": "code",
   "execution_count": 29,
   "id": "821c9fb5",
   "metadata": {},
   "outputs": [
    {
     "data": {
      "text/plain": [
       "int"
      ]
     },
     "execution_count": 29,
     "metadata": {},
     "output_type": "execute_result"
    }
   ],
   "source": [
    "type(a)"
   ]
  },
  {
   "cell_type": "code",
   "execution_count": 30,
   "id": "866f7d24",
   "metadata": {},
   "outputs": [
    {
     "data": {
      "text/plain": [
       "float"
      ]
     },
     "execution_count": 30,
     "metadata": {},
     "output_type": "execute_result"
    }
   ],
   "source": [
    "type(b)"
   ]
  },
  {
   "cell_type": "code",
   "execution_count": 31,
   "id": "26ac0c29",
   "metadata": {},
   "outputs": [
    {
     "data": {
      "text/plain": [
       "3"
      ]
     },
     "execution_count": 31,
     "metadata": {},
     "output_type": "execute_result"
    }
   ],
   "source": [
    "int(b)"
   ]
  },
  {
   "cell_type": "code",
   "execution_count": 32,
   "id": "214c82ba",
   "metadata": {},
   "outputs": [
    {
     "data": {
      "text/plain": [
       "9.0"
      ]
     },
     "execution_count": 32,
     "metadata": {},
     "output_type": "execute_result"
    }
   ],
   "source": [
    "float (a)"
   ]
  },
  {
   "cell_type": "markdown",
   "id": "ad2d00fa",
   "metadata": {},
   "source": [
    "# List"
   ]
  },
  {
   "cell_type": "code",
   "execution_count": 39,
   "id": "f2ef6737",
   "metadata": {},
   "outputs": [
    {
     "data": {
      "text/plain": [
       "list"
      ]
     },
     "execution_count": 39,
     "metadata": {},
     "output_type": "execute_result"
    }
   ],
   "source": [
    "roll= [1,2,3,4,5,6,7,8]\n",
    "type(roll)"
   ]
  },
  {
   "cell_type": "code",
   "execution_count": 12,
   "id": "19b6735b",
   "metadata": {},
   "outputs": [
    {
     "data": {
      "text/plain": [
       "9"
      ]
     },
     "execution_count": 12,
     "metadata": {},
     "output_type": "execute_result"
    }
   ],
   "source": [
    "marks = [11,22,33,44,55,66,77,88,99]\n",
    "len(marks)"
   ]
  },
  {
   "cell_type": "code",
   "execution_count": 14,
   "id": "e43ce819",
   "metadata": {},
   "outputs": [
    {
     "data": {
      "text/plain": [
       "22"
      ]
     },
     "execution_count": 14,
     "metadata": {},
     "output_type": "execute_result"
    }
   ],
   "source": [
    "marks(2)"
   ]
  },
  {
   "cell_type": "code",
   "execution_count": 16,
   "id": "73c81b5b",
   "metadata": {},
   "outputs": [
    {
     "data": {
      "text/plain": [
       "55"
      ]
     },
     "execution_count": 16,
     "metadata": {},
     "output_type": "execute_result"
    }
   ],
   "source": [
    "marks.index(5)"
   ]
  },
  {
   "cell_type": "code",
   "execution_count": 19,
   "id": "3f30415f",
   "metadata": {},
   "outputs": [
    {
     "data": {
      "text/plain": [
       "[55, 66, 77, 88, 99]"
      ]
     },
     "execution_count": 19,
     "metadata": {},
     "output_type": "execute_result"
    }
   ],
   "source": [
    "marks(5:9)"
   ]
  },
  {
   "cell_type": "code",
   "execution_count": 21,
   "id": "bbbc5d14",
   "metadata": {},
   "outputs": [
    {
     "data": {
      "text/plain": [
       "[11, 33, 55, 77, 99]"
      ]
     },
     "execution_count": 21,
     "metadata": {},
     "output_type": "execute_result"
    }
   ],
   "source": [
    "marks(1:9:2)"
   ]
  }
 ],
 "metadata": {
  "kernelspec": {
   "display_name": "Python 3 (ipykernel)",
   "language": "python",
   "name": "python3"
  },
  "language_info": {
   "codemirror_mode": {
    "name": "ipython",
    "version": 3
   },
   "file_extension": ".py",
   "mimetype": "text/x-python",
   "name": "python",
   "nbconvert_exporter": "python",
   "pygments_lexer": "ipython3",
   "version": "3.11.5"
  }
 },
 "nbformat": 4,
 "nbformat_minor": 5
}
