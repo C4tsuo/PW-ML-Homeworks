{
 "cells": [
  {
   "cell_type": "markdown",
   "id": "174dab1d",
   "metadata": {},
   "source": [
    "# Arithmetic Operator"
   ]
  },
  {
   "cell_type": "code",
   "execution_count": 19,
   "id": "0be736ec",
   "metadata": {},
   "outputs": [
    {
     "name": "stdout",
     "output_type": "stream",
     "text": [
      "10\n",
      "2\n",
      "13.333333333333334\n",
      "13\n",
      "200\n"
     ]
    }
   ],
   "source": [
    "# Addition\n",
    "print(8+2)\n",
    "# Substraction\n",
    "print(10-8)\n",
    "# Division\n",
    "print(200/15)\n",
    "# Floor Division\n",
    "print(200//15)\n",
    "# Multiplication\n",
    "print(10*20)"
   ]
  },
  {
   "cell_type": "code",
   "execution_count": 18,
   "id": "7031a2b1",
   "metadata": {},
   "outputs": [
    {
     "name": "stdout",
     "output_type": "stream",
     "text": [
      "2\n",
      "100000000\n"
     ]
    }
   ],
   "source": [
    "# Reminder\n",
    "print(10%4)\n",
    "# Power\n",
    "print(10**8)"
   ]
  },
  {
   "cell_type": "markdown",
   "id": "4e915ce4",
   "metadata": {},
   "source": [
    "# Comparison Operator"
   ]
  },
  {
   "cell_type": "code",
   "execution_count": 31,
   "id": "93ce23e9",
   "metadata": {},
   "outputs": [],
   "source": [
    "S = 8\n",
    "R = 2"
   ]
  },
  {
   "cell_type": "code",
   "execution_count": 32,
   "id": "6cad3d22",
   "metadata": {},
   "outputs": [
    {
     "data": {
      "text/plain": [
       "True"
      ]
     },
     "execution_count": 32,
     "metadata": {},
     "output_type": "execute_result"
    }
   ],
   "source": [
    "S > R"
   ]
  },
  {
   "cell_type": "code",
   "execution_count": 33,
   "id": "55e0a8ee",
   "metadata": {},
   "outputs": [
    {
     "data": {
      "text/plain": [
       "False"
      ]
     },
     "execution_count": 33,
     "metadata": {},
     "output_type": "execute_result"
    }
   ],
   "source": [
    "S < R"
   ]
  },
  {
   "cell_type": "code",
   "execution_count": 34,
   "id": "d6702041",
   "metadata": {},
   "outputs": [
    {
     "data": {
      "text/plain": [
       "False"
      ]
     },
     "execution_count": 34,
     "metadata": {},
     "output_type": "execute_result"
    }
   ],
   "source": [
    "S == R"
   ]
  },
  {
   "cell_type": "code",
   "execution_count": 35,
   "id": "e6d1d8ce",
   "metadata": {},
   "outputs": [
    {
     "data": {
      "text/plain": [
       "True"
      ]
     },
     "execution_count": 35,
     "metadata": {},
     "output_type": "execute_result"
    }
   ],
   "source": [
    "S >= R"
   ]
  },
  {
   "cell_type": "code",
   "execution_count": 36,
   "id": "77c53003",
   "metadata": {},
   "outputs": [
    {
     "data": {
      "text/plain": [
       "False"
      ]
     },
     "execution_count": 36,
     "metadata": {},
     "output_type": "execute_result"
    }
   ],
   "source": [
    "S <= R"
   ]
  },
  {
   "cell_type": "code",
   "execution_count": 37,
   "id": "23802b90",
   "metadata": {},
   "outputs": [
    {
     "data": {
      "text/plain": [
       "True"
      ]
     },
     "execution_count": 37,
     "metadata": {},
     "output_type": "execute_result"
    }
   ],
   "source": [
    "S != R"
   ]
  },
  {
   "cell_type": "code",
   "execution_count": null,
   "id": "8445ded6",
   "metadata": {},
   "outputs": [],
   "source": []
  }
 ],
 "metadata": {
  "kernelspec": {
   "display_name": "Python 3 (ipykernel)",
   "language": "python",
   "name": "python3"
  },
  "language_info": {
   "codemirror_mode": {
    "name": "ipython",
    "version": 3
   },
   "file_extension": ".py",
   "mimetype": "text/x-python",
   "name": "python",
   "nbconvert_exporter": "python",
   "pygments_lexer": "ipython3",
   "version": "3.11.5"
  }
 },
 "nbformat": 4,
 "nbformat_minor": 5
}
